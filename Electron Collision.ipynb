{
 "cells": [
  {
   "cell_type": "code",
   "id": "initial_id",
   "metadata": {
    "collapsed": true,
    "ExecuteTime": {
     "end_time": "2024-12-05T01:36:17.704940Z",
     "start_time": "2024-12-05T01:36:17.700208Z"
    }
   },
   "source": [
    "import pandas as pd\n",
    "import numpy as np\n",
    "import matplotlib.pyplot as plt\n",
    "import seaborn as sns\n",
    "\n",
    "from sklearn.metrics import mean_squared_error\n",
    "from sklearn.model_selection import train_test_split, RandomizedSearchCV\n",
    "from sklearn.metrics import mean_squared_error, mean_absolute_error, make_scorer\n",
    "from sklearn.preprocessing import StandardScaler\n",
    "\n",
    "from sklearn.linear_model import LinearRegression\n",
    "from sklearn.ensemble import RandomForestRegressor\n",
    "from sklearn.tree import DecisionTreeRegressor\n",
    "from sklearn.neighbors import KNeighborsRegressor\n",
    "from xgboost import XGBRegressor\n",
    "from lightgbm import LGBMRegressor\n",
    "from sklearn.ensemble import GradientBoostingRegressor\n",
    "from sklearn.ensemble import HistGradientBoostingRegressor\n",
    "\n",
    "import warnings\n",
    "warnings.filterwarnings('ignore')"
   ],
   "outputs": [],
   "execution_count": 34
  },
  {
   "metadata": {
    "ExecuteTime": {
     "end_time": "2024-12-05T01:36:18.707862Z",
     "start_time": "2024-12-05T01:36:18.583237Z"
    }
   },
   "cell_type": "code",
   "source": [
    "df = pd.read_csv('dielectron.csv')\n",
    "df.head()"
   ],
   "id": "43a61b4bd7dda543",
   "outputs": [
    {
     "data": {
      "text/plain": [
       "      Run      Event        E1      px1         py1       pz1       pt1  \\\n",
       "0  147115  366639895  58.71410  -7.31132  10.531000 -57.29740  12.82020   \n",
       "1  147115  366704169   6.61188  -4.15213  -0.579855  -5.11278   4.19242   \n",
       "2  147115  367112316  25.54190 -11.48090   2.041680  22.72460  11.66100   \n",
       "3  147115  366952149  65.39590   7.51214  11.887100  63.86620  14.06190   \n",
       "4  147115  366523212  61.45040   2.95284 -14.622700 -59.61210  14.91790   \n",
       "\n",
       "      eta1     phi1  Q1       E2        px2      py2      pz2       pt2  \\\n",
       "0 -2.20267  2.17766   1  11.2836  -1.032340 -1.88066 -11.0778   2.14537   \n",
       "1 -1.02842 -3.00284  -1  17.1492 -11.713500  5.04474  11.4647  12.75360   \n",
       "2  1.42048  2.96560   1  15.8203  -1.472800  2.25895 -15.5888   2.69667   \n",
       "3  2.21838  1.00721   1  25.1273   4.087860  2.59641  24.6563   4.84272   \n",
       "4 -2.09375 -1.37154  -1  13.8871  -0.277757 -2.42560 -13.6708   2.44145   \n",
       "\n",
       "       eta2      phi2  Q2         M  \n",
       "0 -2.344030 -2.072810  -1   8.94841  \n",
       "1  0.808077  2.734920   1  15.89300  \n",
       "2 -2.455080  2.148570   1  38.38770  \n",
       "3  2.330210  0.565865  -1   3.72862  \n",
       "4 -2.423700 -1.684810  -1   2.74718  "
      ],
      "text/html": [
       "<div>\n",
       "<style scoped>\n",
       "    .dataframe tbody tr th:only-of-type {\n",
       "        vertical-align: middle;\n",
       "    }\n",
       "\n",
       "    .dataframe tbody tr th {\n",
       "        vertical-align: top;\n",
       "    }\n",
       "\n",
       "    .dataframe thead th {\n",
       "        text-align: right;\n",
       "    }\n",
       "</style>\n",
       "<table border=\"1\" class=\"dataframe\">\n",
       "  <thead>\n",
       "    <tr style=\"text-align: right;\">\n",
       "      <th></th>\n",
       "      <th>Run</th>\n",
       "      <th>Event</th>\n",
       "      <th>E1</th>\n",
       "      <th>px1</th>\n",
       "      <th>py1</th>\n",
       "      <th>pz1</th>\n",
       "      <th>pt1</th>\n",
       "      <th>eta1</th>\n",
       "      <th>phi1</th>\n",
       "      <th>Q1</th>\n",
       "      <th>E2</th>\n",
       "      <th>px2</th>\n",
       "      <th>py2</th>\n",
       "      <th>pz2</th>\n",
       "      <th>pt2</th>\n",
       "      <th>eta2</th>\n",
       "      <th>phi2</th>\n",
       "      <th>Q2</th>\n",
       "      <th>M</th>\n",
       "    </tr>\n",
       "  </thead>\n",
       "  <tbody>\n",
       "    <tr>\n",
       "      <th>0</th>\n",
       "      <td>147115</td>\n",
       "      <td>366639895</td>\n",
       "      <td>58.71410</td>\n",
       "      <td>-7.31132</td>\n",
       "      <td>10.531000</td>\n",
       "      <td>-57.29740</td>\n",
       "      <td>12.82020</td>\n",
       "      <td>-2.20267</td>\n",
       "      <td>2.17766</td>\n",
       "      <td>1</td>\n",
       "      <td>11.2836</td>\n",
       "      <td>-1.032340</td>\n",
       "      <td>-1.88066</td>\n",
       "      <td>-11.0778</td>\n",
       "      <td>2.14537</td>\n",
       "      <td>-2.344030</td>\n",
       "      <td>-2.072810</td>\n",
       "      <td>-1</td>\n",
       "      <td>8.94841</td>\n",
       "    </tr>\n",
       "    <tr>\n",
       "      <th>1</th>\n",
       "      <td>147115</td>\n",
       "      <td>366704169</td>\n",
       "      <td>6.61188</td>\n",
       "      <td>-4.15213</td>\n",
       "      <td>-0.579855</td>\n",
       "      <td>-5.11278</td>\n",
       "      <td>4.19242</td>\n",
       "      <td>-1.02842</td>\n",
       "      <td>-3.00284</td>\n",
       "      <td>-1</td>\n",
       "      <td>17.1492</td>\n",
       "      <td>-11.713500</td>\n",
       "      <td>5.04474</td>\n",
       "      <td>11.4647</td>\n",
       "      <td>12.75360</td>\n",
       "      <td>0.808077</td>\n",
       "      <td>2.734920</td>\n",
       "      <td>1</td>\n",
       "      <td>15.89300</td>\n",
       "    </tr>\n",
       "    <tr>\n",
       "      <th>2</th>\n",
       "      <td>147115</td>\n",
       "      <td>367112316</td>\n",
       "      <td>25.54190</td>\n",
       "      <td>-11.48090</td>\n",
       "      <td>2.041680</td>\n",
       "      <td>22.72460</td>\n",
       "      <td>11.66100</td>\n",
       "      <td>1.42048</td>\n",
       "      <td>2.96560</td>\n",
       "      <td>1</td>\n",
       "      <td>15.8203</td>\n",
       "      <td>-1.472800</td>\n",
       "      <td>2.25895</td>\n",
       "      <td>-15.5888</td>\n",
       "      <td>2.69667</td>\n",
       "      <td>-2.455080</td>\n",
       "      <td>2.148570</td>\n",
       "      <td>1</td>\n",
       "      <td>38.38770</td>\n",
       "    </tr>\n",
       "    <tr>\n",
       "      <th>3</th>\n",
       "      <td>147115</td>\n",
       "      <td>366952149</td>\n",
       "      <td>65.39590</td>\n",
       "      <td>7.51214</td>\n",
       "      <td>11.887100</td>\n",
       "      <td>63.86620</td>\n",
       "      <td>14.06190</td>\n",
       "      <td>2.21838</td>\n",
       "      <td>1.00721</td>\n",
       "      <td>1</td>\n",
       "      <td>25.1273</td>\n",
       "      <td>4.087860</td>\n",
       "      <td>2.59641</td>\n",
       "      <td>24.6563</td>\n",
       "      <td>4.84272</td>\n",
       "      <td>2.330210</td>\n",
       "      <td>0.565865</td>\n",
       "      <td>-1</td>\n",
       "      <td>3.72862</td>\n",
       "    </tr>\n",
       "    <tr>\n",
       "      <th>4</th>\n",
       "      <td>147115</td>\n",
       "      <td>366523212</td>\n",
       "      <td>61.45040</td>\n",
       "      <td>2.95284</td>\n",
       "      <td>-14.622700</td>\n",
       "      <td>-59.61210</td>\n",
       "      <td>14.91790</td>\n",
       "      <td>-2.09375</td>\n",
       "      <td>-1.37154</td>\n",
       "      <td>-1</td>\n",
       "      <td>13.8871</td>\n",
       "      <td>-0.277757</td>\n",
       "      <td>-2.42560</td>\n",
       "      <td>-13.6708</td>\n",
       "      <td>2.44145</td>\n",
       "      <td>-2.423700</td>\n",
       "      <td>-1.684810</td>\n",
       "      <td>-1</td>\n",
       "      <td>2.74718</td>\n",
       "    </tr>\n",
       "  </tbody>\n",
       "</table>\n",
       "</div>"
      ]
     },
     "execution_count": 35,
     "metadata": {},
     "output_type": "execute_result"
    }
   ],
   "execution_count": 35
  },
  {
   "metadata": {
    "ExecuteTime": {
     "end_time": "2024-12-05T02:21:41.594221Z",
     "start_time": "2024-12-05T02:21:41.526079Z"
    }
   },
   "cell_type": "code",
   "source": "df.describe()",
   "id": "8a980ce7e86a57d3",
   "outputs": [
    {
     "data": {
      "text/plain": [
       "                 E1          px1            py1           pz1           pt1  \\\n",
       "count  99915.000000  99915.000000  99915.000000  99915.000000  99915.000000   \n",
       "mean      36.460107      0.135858      0.183211     -1.509100     14.418195   \n",
       "std       41.225336     13.409322     13.474668     51.625332     12.391213   \n",
       "min        0.377928   -250.587000   -126.079000   -840.987000      0.219629   \n",
       "25%        8.472775     -5.237190     -5.281100    -15.898650      3.773670   \n",
       "50%       21.740200      0.141661      0.100544     -0.313360     12.972900   \n",
       "75%       50.059250      5.718920      5.652355     13.234400     20.026050   \n",
       "max      850.602000    134.539000    147.467000    760.096000    265.578000   \n",
       "\n",
       "               eta1          phi1            Q1            E2           px2  \\\n",
       "count  99915.000000  99915.000000  99915.000000  99915.000000  99915.000000   \n",
       "mean      -0.064143      0.022002     -0.005495     44.028549     -0.003442   \n",
       "std        1.462626      1.799506      0.999990     46.761747     13.130364   \n",
       "min       -4.165380     -3.141580     -1.000000      0.472500   -233.730000   \n",
       "25%       -1.284650     -1.526580     -1.000000     11.065550     -4.793870   \n",
       "50%       -0.061352      0.035015     -1.000000     25.291400     -0.035653   \n",
       "75%        1.145405      1.562680      1.000000     66.983350      4.818905   \n",
       "max        2.622970      3.141420      1.000000    948.375000    227.330000   \n",
       "\n",
       "                py2           pz2           pt2          eta2          phi2  \\\n",
       "count  99915.000000  99915.000000  99915.000000  99915.000000  99915.000000   \n",
       "mean       0.125963     -1.591798     13.804597     -0.072885      0.021772   \n",
       "std       13.171806     61.455194     12.463948      1.738660      1.816991   \n",
       "min     -145.651000   -655.396000      0.026651     -7.064790     -3.141580   \n",
       "25%       -4.604685    -22.062650      3.737825     -1.892965     -1.556060   \n",
       "50%        0.084512     -0.692463     11.690800     -0.136708      0.027453   \n",
       "75%        5.063075     19.041800     19.601700      1.769300      1.597040   \n",
       "max      166.283000    935.558000    281.654000      3.060550      3.141290   \n",
       "\n",
       "                 Q2             M  \n",
       "count  99915.000000  99915.000000  \n",
       "mean      -0.004234     30.019521  \n",
       "std        0.999996     25.255847  \n",
       "min       -1.000000      2.000080  \n",
       "25%       -1.000000     12.445200  \n",
       "50%       -1.000000     21.283100  \n",
       "75%        1.000000     39.025050  \n",
       "max        1.000000    109.999000  "
      ],
      "text/html": [
       "<div>\n",
       "<style scoped>\n",
       "    .dataframe tbody tr th:only-of-type {\n",
       "        vertical-align: middle;\n",
       "    }\n",
       "\n",
       "    .dataframe tbody tr th {\n",
       "        vertical-align: top;\n",
       "    }\n",
       "\n",
       "    .dataframe thead th {\n",
       "        text-align: right;\n",
       "    }\n",
       "</style>\n",
       "<table border=\"1\" class=\"dataframe\">\n",
       "  <thead>\n",
       "    <tr style=\"text-align: right;\">\n",
       "      <th></th>\n",
       "      <th>E1</th>\n",
       "      <th>px1</th>\n",
       "      <th>py1</th>\n",
       "      <th>pz1</th>\n",
       "      <th>pt1</th>\n",
       "      <th>eta1</th>\n",
       "      <th>phi1</th>\n",
       "      <th>Q1</th>\n",
       "      <th>E2</th>\n",
       "      <th>px2</th>\n",
       "      <th>py2</th>\n",
       "      <th>pz2</th>\n",
       "      <th>pt2</th>\n",
       "      <th>eta2</th>\n",
       "      <th>phi2</th>\n",
       "      <th>Q2</th>\n",
       "      <th>M</th>\n",
       "    </tr>\n",
       "  </thead>\n",
       "  <tbody>\n",
       "    <tr>\n",
       "      <th>count</th>\n",
       "      <td>99915.000000</td>\n",
       "      <td>99915.000000</td>\n",
       "      <td>99915.000000</td>\n",
       "      <td>99915.000000</td>\n",
       "      <td>99915.000000</td>\n",
       "      <td>99915.000000</td>\n",
       "      <td>99915.000000</td>\n",
       "      <td>99915.000000</td>\n",
       "      <td>99915.000000</td>\n",
       "      <td>99915.000000</td>\n",
       "      <td>99915.000000</td>\n",
       "      <td>99915.000000</td>\n",
       "      <td>99915.000000</td>\n",
       "      <td>99915.000000</td>\n",
       "      <td>99915.000000</td>\n",
       "      <td>99915.000000</td>\n",
       "      <td>99915.000000</td>\n",
       "    </tr>\n",
       "    <tr>\n",
       "      <th>mean</th>\n",
       "      <td>36.460107</td>\n",
       "      <td>0.135858</td>\n",
       "      <td>0.183211</td>\n",
       "      <td>-1.509100</td>\n",
       "      <td>14.418195</td>\n",
       "      <td>-0.064143</td>\n",
       "      <td>0.022002</td>\n",
       "      <td>-0.005495</td>\n",
       "      <td>44.028549</td>\n",
       "      <td>-0.003442</td>\n",
       "      <td>0.125963</td>\n",
       "      <td>-1.591798</td>\n",
       "      <td>13.804597</td>\n",
       "      <td>-0.072885</td>\n",
       "      <td>0.021772</td>\n",
       "      <td>-0.004234</td>\n",
       "      <td>30.019521</td>\n",
       "    </tr>\n",
       "    <tr>\n",
       "      <th>std</th>\n",
       "      <td>41.225336</td>\n",
       "      <td>13.409322</td>\n",
       "      <td>13.474668</td>\n",
       "      <td>51.625332</td>\n",
       "      <td>12.391213</td>\n",
       "      <td>1.462626</td>\n",
       "      <td>1.799506</td>\n",
       "      <td>0.999990</td>\n",
       "      <td>46.761747</td>\n",
       "      <td>13.130364</td>\n",
       "      <td>13.171806</td>\n",
       "      <td>61.455194</td>\n",
       "      <td>12.463948</td>\n",
       "      <td>1.738660</td>\n",
       "      <td>1.816991</td>\n",
       "      <td>0.999996</td>\n",
       "      <td>25.255847</td>\n",
       "    </tr>\n",
       "    <tr>\n",
       "      <th>min</th>\n",
       "      <td>0.377928</td>\n",
       "      <td>-250.587000</td>\n",
       "      <td>-126.079000</td>\n",
       "      <td>-840.987000</td>\n",
       "      <td>0.219629</td>\n",
       "      <td>-4.165380</td>\n",
       "      <td>-3.141580</td>\n",
       "      <td>-1.000000</td>\n",
       "      <td>0.472500</td>\n",
       "      <td>-233.730000</td>\n",
       "      <td>-145.651000</td>\n",
       "      <td>-655.396000</td>\n",
       "      <td>0.026651</td>\n",
       "      <td>-7.064790</td>\n",
       "      <td>-3.141580</td>\n",
       "      <td>-1.000000</td>\n",
       "      <td>2.000080</td>\n",
       "    </tr>\n",
       "    <tr>\n",
       "      <th>25%</th>\n",
       "      <td>8.472775</td>\n",
       "      <td>-5.237190</td>\n",
       "      <td>-5.281100</td>\n",
       "      <td>-15.898650</td>\n",
       "      <td>3.773670</td>\n",
       "      <td>-1.284650</td>\n",
       "      <td>-1.526580</td>\n",
       "      <td>-1.000000</td>\n",
       "      <td>11.065550</td>\n",
       "      <td>-4.793870</td>\n",
       "      <td>-4.604685</td>\n",
       "      <td>-22.062650</td>\n",
       "      <td>3.737825</td>\n",
       "      <td>-1.892965</td>\n",
       "      <td>-1.556060</td>\n",
       "      <td>-1.000000</td>\n",
       "      <td>12.445200</td>\n",
       "    </tr>\n",
       "    <tr>\n",
       "      <th>50%</th>\n",
       "      <td>21.740200</td>\n",
       "      <td>0.141661</td>\n",
       "      <td>0.100544</td>\n",
       "      <td>-0.313360</td>\n",
       "      <td>12.972900</td>\n",
       "      <td>-0.061352</td>\n",
       "      <td>0.035015</td>\n",
       "      <td>-1.000000</td>\n",
       "      <td>25.291400</td>\n",
       "      <td>-0.035653</td>\n",
       "      <td>0.084512</td>\n",
       "      <td>-0.692463</td>\n",
       "      <td>11.690800</td>\n",
       "      <td>-0.136708</td>\n",
       "      <td>0.027453</td>\n",
       "      <td>-1.000000</td>\n",
       "      <td>21.283100</td>\n",
       "    </tr>\n",
       "    <tr>\n",
       "      <th>75%</th>\n",
       "      <td>50.059250</td>\n",
       "      <td>5.718920</td>\n",
       "      <td>5.652355</td>\n",
       "      <td>13.234400</td>\n",
       "      <td>20.026050</td>\n",
       "      <td>1.145405</td>\n",
       "      <td>1.562680</td>\n",
       "      <td>1.000000</td>\n",
       "      <td>66.983350</td>\n",
       "      <td>4.818905</td>\n",
       "      <td>5.063075</td>\n",
       "      <td>19.041800</td>\n",
       "      <td>19.601700</td>\n",
       "      <td>1.769300</td>\n",
       "      <td>1.597040</td>\n",
       "      <td>1.000000</td>\n",
       "      <td>39.025050</td>\n",
       "    </tr>\n",
       "    <tr>\n",
       "      <th>max</th>\n",
       "      <td>850.602000</td>\n",
       "      <td>134.539000</td>\n",
       "      <td>147.467000</td>\n",
       "      <td>760.096000</td>\n",
       "      <td>265.578000</td>\n",
       "      <td>2.622970</td>\n",
       "      <td>3.141420</td>\n",
       "      <td>1.000000</td>\n",
       "      <td>948.375000</td>\n",
       "      <td>227.330000</td>\n",
       "      <td>166.283000</td>\n",
       "      <td>935.558000</td>\n",
       "      <td>281.654000</td>\n",
       "      <td>3.060550</td>\n",
       "      <td>3.141290</td>\n",
       "      <td>1.000000</td>\n",
       "      <td>109.999000</td>\n",
       "    </tr>\n",
       "  </tbody>\n",
       "</table>\n",
       "</div>"
      ]
     },
     "execution_count": 47,
     "metadata": {},
     "output_type": "execute_result"
    }
   ],
   "execution_count": 47
  },
  {
   "metadata": {
    "ExecuteTime": {
     "end_time": "2024-12-05T01:36:20.150035Z",
     "start_time": "2024-12-05T01:36:20.134766Z"
    }
   },
   "cell_type": "code",
   "source": [
    "df.drop('Run', axis=1, inplace=True)\n",
    "df.drop('Event', axis=1, inplace=True)\n",
    "df.head()"
   ],
   "id": "689a5a42b4de12ff",
   "outputs": [
    {
     "data": {
      "text/plain": [
       "         E1      px1         py1       pz1       pt1     eta1     phi1  Q1  \\\n",
       "0  58.71410  -7.31132  10.531000 -57.29740  12.82020 -2.20267  2.17766   1   \n",
       "1   6.61188  -4.15213  -0.579855  -5.11278   4.19242 -1.02842 -3.00284  -1   \n",
       "2  25.54190 -11.48090   2.041680  22.72460  11.66100  1.42048  2.96560   1   \n",
       "3  65.39590   7.51214  11.887100  63.86620  14.06190  2.21838  1.00721   1   \n",
       "4  61.45040   2.95284 -14.622700 -59.61210  14.91790 -2.09375 -1.37154  -1   \n",
       "\n",
       "        E2        px2      py2      pz2       pt2      eta2      phi2  Q2  \\\n",
       "0  11.2836  -1.032340 -1.88066 -11.0778   2.14537 -2.344030 -2.072810  -1   \n",
       "1  17.1492 -11.713500  5.04474  11.4647  12.75360  0.808077  2.734920   1   \n",
       "2  15.8203  -1.472800  2.25895 -15.5888   2.69667 -2.455080  2.148570   1   \n",
       "3  25.1273   4.087860  2.59641  24.6563   4.84272  2.330210  0.565865  -1   \n",
       "4  13.8871  -0.277757 -2.42560 -13.6708   2.44145 -2.423700 -1.684810  -1   \n",
       "\n",
       "          M  \n",
       "0   8.94841  \n",
       "1  15.89300  \n",
       "2  38.38770  \n",
       "3   3.72862  \n",
       "4   2.74718  "
      ],
      "text/html": [
       "<div>\n",
       "<style scoped>\n",
       "    .dataframe tbody tr th:only-of-type {\n",
       "        vertical-align: middle;\n",
       "    }\n",
       "\n",
       "    .dataframe tbody tr th {\n",
       "        vertical-align: top;\n",
       "    }\n",
       "\n",
       "    .dataframe thead th {\n",
       "        text-align: right;\n",
       "    }\n",
       "</style>\n",
       "<table border=\"1\" class=\"dataframe\">\n",
       "  <thead>\n",
       "    <tr style=\"text-align: right;\">\n",
       "      <th></th>\n",
       "      <th>E1</th>\n",
       "      <th>px1</th>\n",
       "      <th>py1</th>\n",
       "      <th>pz1</th>\n",
       "      <th>pt1</th>\n",
       "      <th>eta1</th>\n",
       "      <th>phi1</th>\n",
       "      <th>Q1</th>\n",
       "      <th>E2</th>\n",
       "      <th>px2</th>\n",
       "      <th>py2</th>\n",
       "      <th>pz2</th>\n",
       "      <th>pt2</th>\n",
       "      <th>eta2</th>\n",
       "      <th>phi2</th>\n",
       "      <th>Q2</th>\n",
       "      <th>M</th>\n",
       "    </tr>\n",
       "  </thead>\n",
       "  <tbody>\n",
       "    <tr>\n",
       "      <th>0</th>\n",
       "      <td>58.71410</td>\n",
       "      <td>-7.31132</td>\n",
       "      <td>10.531000</td>\n",
       "      <td>-57.29740</td>\n",
       "      <td>12.82020</td>\n",
       "      <td>-2.20267</td>\n",
       "      <td>2.17766</td>\n",
       "      <td>1</td>\n",
       "      <td>11.2836</td>\n",
       "      <td>-1.032340</td>\n",
       "      <td>-1.88066</td>\n",
       "      <td>-11.0778</td>\n",
       "      <td>2.14537</td>\n",
       "      <td>-2.344030</td>\n",
       "      <td>-2.072810</td>\n",
       "      <td>-1</td>\n",
       "      <td>8.94841</td>\n",
       "    </tr>\n",
       "    <tr>\n",
       "      <th>1</th>\n",
       "      <td>6.61188</td>\n",
       "      <td>-4.15213</td>\n",
       "      <td>-0.579855</td>\n",
       "      <td>-5.11278</td>\n",
       "      <td>4.19242</td>\n",
       "      <td>-1.02842</td>\n",
       "      <td>-3.00284</td>\n",
       "      <td>-1</td>\n",
       "      <td>17.1492</td>\n",
       "      <td>-11.713500</td>\n",
       "      <td>5.04474</td>\n",
       "      <td>11.4647</td>\n",
       "      <td>12.75360</td>\n",
       "      <td>0.808077</td>\n",
       "      <td>2.734920</td>\n",
       "      <td>1</td>\n",
       "      <td>15.89300</td>\n",
       "    </tr>\n",
       "    <tr>\n",
       "      <th>2</th>\n",
       "      <td>25.54190</td>\n",
       "      <td>-11.48090</td>\n",
       "      <td>2.041680</td>\n",
       "      <td>22.72460</td>\n",
       "      <td>11.66100</td>\n",
       "      <td>1.42048</td>\n",
       "      <td>2.96560</td>\n",
       "      <td>1</td>\n",
       "      <td>15.8203</td>\n",
       "      <td>-1.472800</td>\n",
       "      <td>2.25895</td>\n",
       "      <td>-15.5888</td>\n",
       "      <td>2.69667</td>\n",
       "      <td>-2.455080</td>\n",
       "      <td>2.148570</td>\n",
       "      <td>1</td>\n",
       "      <td>38.38770</td>\n",
       "    </tr>\n",
       "    <tr>\n",
       "      <th>3</th>\n",
       "      <td>65.39590</td>\n",
       "      <td>7.51214</td>\n",
       "      <td>11.887100</td>\n",
       "      <td>63.86620</td>\n",
       "      <td>14.06190</td>\n",
       "      <td>2.21838</td>\n",
       "      <td>1.00721</td>\n",
       "      <td>1</td>\n",
       "      <td>25.1273</td>\n",
       "      <td>4.087860</td>\n",
       "      <td>2.59641</td>\n",
       "      <td>24.6563</td>\n",
       "      <td>4.84272</td>\n",
       "      <td>2.330210</td>\n",
       "      <td>0.565865</td>\n",
       "      <td>-1</td>\n",
       "      <td>3.72862</td>\n",
       "    </tr>\n",
       "    <tr>\n",
       "      <th>4</th>\n",
       "      <td>61.45040</td>\n",
       "      <td>2.95284</td>\n",
       "      <td>-14.622700</td>\n",
       "      <td>-59.61210</td>\n",
       "      <td>14.91790</td>\n",
       "      <td>-2.09375</td>\n",
       "      <td>-1.37154</td>\n",
       "      <td>-1</td>\n",
       "      <td>13.8871</td>\n",
       "      <td>-0.277757</td>\n",
       "      <td>-2.42560</td>\n",
       "      <td>-13.6708</td>\n",
       "      <td>2.44145</td>\n",
       "      <td>-2.423700</td>\n",
       "      <td>-1.684810</td>\n",
       "      <td>-1</td>\n",
       "      <td>2.74718</td>\n",
       "    </tr>\n",
       "  </tbody>\n",
       "</table>\n",
       "</div>"
      ]
     },
     "execution_count": 36,
     "metadata": {},
     "output_type": "execute_result"
    }
   ],
   "execution_count": 36
  },
  {
   "metadata": {
    "ExecuteTime": {
     "end_time": "2024-12-05T01:36:21.793186Z",
     "start_time": "2024-12-05T01:36:21.784914Z"
    }
   },
   "cell_type": "code",
   "source": "df.dropna(inplace = True)",
   "id": "a0ed2feaa980b9b2",
   "outputs": [],
   "execution_count": 37
  },
  {
   "metadata": {
    "ExecuteTime": {
     "end_time": "2024-12-05T01:36:22.659994Z",
     "start_time": "2024-12-05T01:36:22.653090Z"
    }
   },
   "cell_type": "code",
   "source": [
    "y = df['M']\n",
    "X = df.drop('M', axis=1)\n",
    "names = X.columns"
   ],
   "id": "befbe4a9a6b7b82c",
   "outputs": [],
   "execution_count": 38
  },
  {
   "metadata": {
    "ExecuteTime": {
     "end_time": "2024-12-05T01:36:24.503046Z",
     "start_time": "2024-12-05T01:36:24.480077Z"
    }
   },
   "cell_type": "code",
   "source": [
    "X = StandardScaler().fit_transform(X)\n",
    "#y = StandardScaler().fit_transform(y.values.reshape(-1, 1))"
   ],
   "id": "119dfb02faecf254",
   "outputs": [],
   "execution_count": 39
  },
  {
   "metadata": {
    "ExecuteTime": {
     "end_time": "2024-12-05T01:36:25.597752Z",
     "start_time": "2024-12-05T01:36:25.581748Z"
    }
   },
   "cell_type": "code",
   "source": "train_X, test_X, train_y, test_y = train_test_split(X, y, test_size=0.2, random_state=90125)",
   "id": "b4b7085f17487559",
   "outputs": [],
   "execution_count": 40
  },
  {
   "metadata": {
    "ExecuteTime": {
     "end_time": "2024-12-04T20:59:28.553997Z",
     "start_time": "2024-12-04T20:59:28.025267Z"
    }
   },
   "cell_type": "code",
   "source": [
    "model = LGBMRegressor(random_state=91025).fit(train_X, train_y)\n",
    "pred_y = model.predict(test_X)\n",
    "model.score(test_X, test_y)"
   ],
   "id": "57507ae1c8293c87",
   "outputs": [
    {
     "name": "stdout",
     "output_type": "stream",
     "text": [
      "[LightGBM] [Info] Auto-choosing row-wise multi-threading, the overhead of testing was 0.001679 seconds.\n",
      "You can set `force_row_wise=true` to remove the overhead.\n",
      "And if memory is not enough, you can set `force_col_wise=true`.\n",
      "[LightGBM] [Info] Total Bins 3576\n",
      "[LightGBM] [Info] Number of data points in the train set: 79932, number of used features: 16\n",
      "[LightGBM] [Info] Start training from score 30.099905\n"
     ]
    },
    {
     "data": {
      "text/plain": [
       "0.9589533066072027"
      ]
     },
     "execution_count": 9,
     "metadata": {},
     "output_type": "execute_result"
    }
   ],
   "execution_count": 9
  },
  {
   "metadata": {
    "ExecuteTime": {
     "end_time": "2024-12-04T05:19:24.254824Z",
     "start_time": "2024-12-04T05:19:24.249932Z"
    }
   },
   "cell_type": "code",
   "source": [
    "rmse = np.sqrt(mean_squared_error(test_y, pred_y))\n",
    "print(\"RMSE test: %f\" % (rmse))\n",
    "mae = mean_absolute_error(test_y, pred_y)\n",
    "print(\"MAE:\", mae)"
   ],
   "id": "aa5db37120c970cb",
   "outputs": [
    {
     "name": "stdout",
     "output_type": "stream",
     "text": [
      "RMSE test: 5.072263\n",
      "MAE: 3.5690895375519363\n"
     ]
    }
   ],
   "execution_count": 78
  },
  {
   "metadata": {
    "ExecuteTime": {
     "end_time": "2024-12-04T05:06:55.596555Z",
     "start_time": "2024-12-04T05:06:55.589890Z"
    }
   },
   "cell_type": "code",
   "source": [
    "test_y = np.array(test_y).ravel()  # Ensure test_y is 1-dimensional\n",
    "pred_y = np.array(pred_y).ravel()  # Ensure pred_y is 1-dimensional\n",
    "\n",
    "test_y_df = pd.DataFrame({'Actual_Value': test_y})\n",
    "pred_y_df = pd.DataFrame({'Predicted_Value': pred_y})\n",
    "result_df = pd.concat([test_y_df, pred_y_df], axis=1)\n",
    "result_df"
   ],
   "id": "65ac40a357593efe",
   "outputs": [
    {
     "data": {
      "text/plain": [
       "       Actual_Value  Predicted_Value\n",
       "0          25.64920        25.897441\n",
       "1          21.69630        35.997930\n",
       "2           7.22472        14.330742\n",
       "3          30.98740        30.546839\n",
       "4          41.47520        44.662653\n",
       "...             ...              ...\n",
       "19978      15.44750        14.818975\n",
       "19979      54.42620        50.833211\n",
       "19980      28.41820        23.545340\n",
       "19981      21.96070        16.858054\n",
       "19982      15.73630        16.214304\n",
       "\n",
       "[19983 rows x 2 columns]"
      ],
      "text/html": [
       "<div>\n",
       "<style scoped>\n",
       "    .dataframe tbody tr th:only-of-type {\n",
       "        vertical-align: middle;\n",
       "    }\n",
       "\n",
       "    .dataframe tbody tr th {\n",
       "        vertical-align: top;\n",
       "    }\n",
       "\n",
       "    .dataframe thead th {\n",
       "        text-align: right;\n",
       "    }\n",
       "</style>\n",
       "<table border=\"1\" class=\"dataframe\">\n",
       "  <thead>\n",
       "    <tr style=\"text-align: right;\">\n",
       "      <th></th>\n",
       "      <th>Actual_Value</th>\n",
       "      <th>Predicted_Value</th>\n",
       "    </tr>\n",
       "  </thead>\n",
       "  <tbody>\n",
       "    <tr>\n",
       "      <th>0</th>\n",
       "      <td>25.64920</td>\n",
       "      <td>25.897441</td>\n",
       "    </tr>\n",
       "    <tr>\n",
       "      <th>1</th>\n",
       "      <td>21.69630</td>\n",
       "      <td>35.997930</td>\n",
       "    </tr>\n",
       "    <tr>\n",
       "      <th>2</th>\n",
       "      <td>7.22472</td>\n",
       "      <td>14.330742</td>\n",
       "    </tr>\n",
       "    <tr>\n",
       "      <th>3</th>\n",
       "      <td>30.98740</td>\n",
       "      <td>30.546839</td>\n",
       "    </tr>\n",
       "    <tr>\n",
       "      <th>4</th>\n",
       "      <td>41.47520</td>\n",
       "      <td>44.662653</td>\n",
       "    </tr>\n",
       "    <tr>\n",
       "      <th>...</th>\n",
       "      <td>...</td>\n",
       "      <td>...</td>\n",
       "    </tr>\n",
       "    <tr>\n",
       "      <th>19978</th>\n",
       "      <td>15.44750</td>\n",
       "      <td>14.818975</td>\n",
       "    </tr>\n",
       "    <tr>\n",
       "      <th>19979</th>\n",
       "      <td>54.42620</td>\n",
       "      <td>50.833211</td>\n",
       "    </tr>\n",
       "    <tr>\n",
       "      <th>19980</th>\n",
       "      <td>28.41820</td>\n",
       "      <td>23.545340</td>\n",
       "    </tr>\n",
       "    <tr>\n",
       "      <th>19981</th>\n",
       "      <td>21.96070</td>\n",
       "      <td>16.858054</td>\n",
       "    </tr>\n",
       "    <tr>\n",
       "      <th>19982</th>\n",
       "      <td>15.73630</td>\n",
       "      <td>16.214304</td>\n",
       "    </tr>\n",
       "  </tbody>\n",
       "</table>\n",
       "<p>19983 rows × 2 columns</p>\n",
       "</div>"
      ]
     },
     "execution_count": 68,
     "metadata": {},
     "output_type": "execute_result"
    }
   ],
   "execution_count": 68
  },
  {
   "metadata": {
    "ExecuteTime": {
     "end_time": "2024-12-04T04:35:19.760375Z",
     "start_time": "2024-12-04T04:35:19.547996Z"
    }
   },
   "cell_type": "code",
   "source": [
    "feature_importances = model.feature_importances_\n",
    "\n",
    "importance_df = pd.DataFrame({'Feature': X.columns, 'Importance': feature_importances})\n",
    "\n",
    "importance_df = importance_df.sort_values(by='Importance', ascending=True)\n",
    "\n",
    "plt.figure(figsize=(8, 6))\n",
    "plt.bar(importance_df['Feature'], importance_df['Importance'], color='red')\n",
    "plt.xlabel('Feature')\n",
    "plt.ylabel('Feature Importance Count')\n",
    "plt.title('Feature Importances (LGBMRegressor)')\n",
    "plt.show()"
   ],
   "id": "1429d6cd15177ec8",
   "outputs": [
    {
     "data": {
      "text/plain": [
       "<Figure size 800x600 with 1 Axes>"
      ],
      "image/png": "[encoded data removed]"
     },
     "metadata": {},
     "output_type": "display_data"
    }
   ],
   "execution_count": 10
  },
  {
   "metadata": {
    "ExecuteTime": {
     "end_time": "2024-12-04T21:00:55.134114Z",
     "start_time": "2024-12-04T21:00:54.898575Z"
    }
   },
   "cell_type": "code",
   "source": [
    "model = XGBRegressor(random_state=91025).fit(train_X, train_y)\n",
    "pred_y = model.predict(test_X)\n",
    "print(\"Model score:\", model.score(test_X, test_y))\n",
    "rmse = np.sqrt(mean_squared_error(test_y, pred_y))\n",
    "print(\"RMSE test: %f\" % (rmse))\n",
    "mae = mean_absolute_error(test_y, pred_y)\n",
    "print(\"MAE:\", mae)"
   ],
   "id": "2e15d60985a777fc",
   "outputs": [
    {
     "name": "stdout",
     "output_type": "stream",
     "text": [
      "Model score: 0.9795320299302976\n",
      "RMSE test: 3.581790\n",
      "MAE: 2.5192653822564233\n"
     ]
    }
   ],
   "execution_count": 12
  },
  {
   "metadata": {
    "ExecuteTime": {
     "end_time": "2024-12-04T21:02:16.333248Z",
     "start_time": "2024-12-04T21:01:42.392279Z"
    }
   },
   "cell_type": "code",
   "source": [
    "model = GradientBoostingRegressor(random_state=91025).fit(train_X, train_y)\n",
    "pred_y = model.predict(test_X)\n",
    "print(model.score(test_X, test_y))\n",
    "rmse = np.sqrt(mean_squared_error(test_y, pred_y))\n",
    "print(\"RMSE test: %f\" % (rmse))\n",
    "mae = mean_absolute_error(test_y, pred_y)\n",
    "print(\"MAE:\", mae)"
   ],
   "id": "8c342bd6c1b8c29a",
   "outputs": [
    {
     "name": "stdout",
     "output_type": "stream",
     "text": [
      "0.7879999345026567\n",
      "RMSE test: 11.527382\n",
      "MAE: 7.992070199072846\n"
     ]
    }
   ],
   "execution_count": 14
  },
  {
   "metadata": {
    "ExecuteTime": {
     "end_time": "2024-12-04T21:04:09.911140Z",
     "start_time": "2024-12-04T21:04:09.350155Z"
    }
   },
   "cell_type": "code",
   "source": [
    "model = HistGradientBoostingRegressor(random_state=91025).fit(train_X, train_y)\n",
    "pred_y = model.predict(test_X)\n",
    "print(model.score(test_X, test_y))\n",
    "rmse = np.sqrt(mean_squared_error(test_y, pred_y))\n",
    "print(\"RMSE test: %f\" % (rmse))\n",
    "mae = mean_absolute_error(test_y, pred_y)\n",
    "print(\"MAE:\", mae)"
   ],
   "id": "15ffc5e603132b0a",
   "outputs": [
    {
     "name": "stdout",
     "output_type": "stream",
     "text": [
      "0.958748040499999\n",
      "RMSE test: 5.084930\n",
      "MAE: 3.5946328005728425\n"
     ]
    }
   ],
   "execution_count": 16
  },
  {
   "metadata": {
    "ExecuteTime": {
     "end_time": "2024-12-04T21:07:07.720056Z",
     "start_time": "2024-12-04T21:05:29.047972Z"
    }
   },
   "cell_type": "code",
   "source": [
    "model = RandomForestRegressor(random_state=91025).fit(train_X, train_y)\n",
    "pred_y = model.predict(test_X)\n",
    "print(model.score(test_X, test_y))\n",
    "rmse = np.sqrt(mean_squared_error(test_y, pred_y))\n",
    "print(\"RMSE test: %f\" % (rmse))\n",
    "mae = mean_absolute_error(test_y, pred_y)\n",
    "print(\"MAE:\", mae)"
   ],
   "id": "375e223f291c399",
   "outputs": [
    {
     "name": "stdout",
     "output_type": "stream",
     "text": [
      "0.9477751366451982\n",
      "RMSE test: 5.721387\n",
      "MAE: 3.829924121973678\n"
     ]
    }
   ],
   "execution_count": 17
  },
  {
   "metadata": {
    "ExecuteTime": {
     "end_time": "2024-12-04T21:08:39.703289Z",
     "start_time": "2024-12-04T21:08:37.900543Z"
    }
   },
   "cell_type": "code",
   "source": [
    "model = DecisionTreeRegressor(random_state=91025).fit(train_X, train_y)\n",
    "pred_y = model.predict(test_X)\n",
    "print(model.score(test_X, test_y))\n",
    "rmse = np.sqrt(mean_squared_error(test_y, pred_y))\n",
    "print(\"RMSE test: %f\" % (rmse))\n",
    "mae = mean_absolute_error(test_y, pred_y)\n",
    "print(\"MAE:\", mae)"
   ],
   "id": "d2090e244e63f2f8",
   "outputs": [
    {
     "name": "stdout",
     "output_type": "stream",
     "text": [
      "0.8251020776767517\n",
      "RMSE test: 10.470201\n",
      "MAE: 5.9537993159185305\n"
     ]
    }
   ],
   "execution_count": 18
  },
  {
   "metadata": {
    "ExecuteTime": {
     "end_time": "2024-12-04T21:26:12.553381Z",
     "start_time": "2024-12-04T21:20:54.309086Z"
    }
   },
   "cell_type": "code",
   "source": [
    "mae_scorer = make_scorer(mean_absolute_error, greater_is_better=False)\n",
    "model = XGBRegressor()\n",
    "\n",
    "param_grid = {\n",
    "    'n_estimators': [1000, 2000, 5000],\n",
    "    'learning_rate': [0.05, 0.1, 0.2],\n",
    "    'max_depth': [3, 5, 7],\n",
    "    'min_child_weight': [1, 3],\n",
    "    'subsample': [0.8, 1.0],\n",
    "    'colsample_bytree': [0.8, 1.0],\n",
    "}\n",
    "\n",
    "search = RandomizedSearchCV(\n",
    "    estimator=model,\n",
    "    param_distributions=param_grid,\n",
    "    n_iter=30,\n",
    "    scoring=mae_scorer,\n",
    "    cv=5,\n",
    "    verbose=1,\n",
    "    random_state=90125,\n",
    "    n_jobs=-1\n",
    ")\n",
    "\n",
    "search.fit(train_X, train_y)\n",
    "print(f\"Best parameters: {search.best_params_}\")\n",
    "print(f\"Best MAE score: {-search.best_score_}\")"
   ],
   "id": "faf477a74e925f80",
   "outputs": [
    {
     "name": "stdout",
     "output_type": "stream",
     "text": [
      "Fitting 5 folds for each of 30 candidates, totalling 150 fits\n",
      "Best parameters: {'subsample': 0.8, 'n_estimators': 5000, 'min_child_weight': 1, 'max_depth': 5, 'learning_rate': 0.05, 'colsample_bytree': 0.8}\n",
      "Best MAE score: 1.1615431805024437\n"
     ]
    }
   ],
   "execution_count": 24
  },
  {
   "metadata": {
    "ExecuteTime": {
     "end_time": "2024-12-05T01:36:49.005850Z",
     "start_time": "2024-12-05T01:36:38.670784Z"
    }
   },
   "cell_type": "code",
   "source": [
    "model = XGBRegressor(subsample = 1.0, n_estimators = 5000, min_child_weight = 1, max_depth = 7, learning_rate = 0.2, colsample_bytree = 0.8, random_state=91025).fit(train_X, train_y)\n",
    "pred_y = model.predict(test_X)\n",
    "print(\"Model score:\", model.score(test_X, test_y))\n",
    "rmse = np.sqrt(mean_squared_error(test_y, pred_y))\n",
    "print(\"RMSE test: %f\" % (rmse))\n",
    "mae = mean_absolute_error(test_y, pred_y)\n",
    "print(\"MAE:\", mae)"
   ],
   "id": "40efc28544aa86d7",
   "outputs": [
    {
     "name": "stdout",
     "output_type": "stream",
     "text": [
      "Model score: 0.9909961283150684\n",
      "RMSE test: 2.375622\n",
      "MAE: 1.503909053874347\n"
     ]
    }
   ],
   "execution_count": 41
  },
  {
   "metadata": {
    "ExecuteTime": {
     "end_time": "2024-12-05T01:36:54.038895Z",
     "start_time": "2024-12-05T01:36:54.031302Z"
    }
   },
   "cell_type": "code",
   "source": [
    "test_y = np.array(test_y).ravel()  # Ensure test_y is 1-dimensional\n",
    "pred_y = np.array(pred_y).ravel()  # Ensure pred_y is 1-dimensional\n",
    "\n",
    "test_y_df = pd.DataFrame({'Actual_Value': test_y})\n",
    "pred_y_df = pd.DataFrame({'Predicted_Value': pred_y})\n",
    "result_df = pd.concat([test_y_df, pred_y_df], axis=1)\n",
    "result_df"
   ],
   "id": "3c1eaee1a90c96be",
   "outputs": [
    {
     "data": {
      "text/plain": [
       "       Actual_Value  Predicted_Value\n",
       "0          25.64920        20.499660\n",
       "1          21.69630        30.021755\n",
       "2           7.22472         8.124666\n",
       "3          30.98740        27.365152\n",
       "4          41.47520        44.308174\n",
       "...             ...              ...\n",
       "19978      15.44750        14.886752\n",
       "19979      54.42620        55.266792\n",
       "19980      28.41820        25.794876\n",
       "19981      21.96070        19.758512\n",
       "19982      15.73630        14.770112\n",
       "\n",
       "[19983 rows x 2 columns]"
      ],
      "text/html": [
       "<div>\n",
       "<style scoped>\n",
       "    .dataframe tbody tr th:only-of-type {\n",
       "        vertical-align: middle;\n",
       "    }\n",
       "\n",
       "    .dataframe tbody tr th {\n",
       "        vertical-align: top;\n",
       "    }\n",
       "\n",
       "    .dataframe thead th {\n",
       "        text-align: right;\n",
       "    }\n",
       "</style>\n",
       "<table border=\"1\" class=\"dataframe\">\n",
       "  <thead>\n",
       "    <tr style=\"text-align: right;\">\n",
       "      <th></th>\n",
       "      <th>Actual_Value</th>\n",
       "      <th>Predicted_Value</th>\n",
       "    </tr>\n",
       "  </thead>\n",
       "  <tbody>\n",
       "    <tr>\n",
       "      <th>0</th>\n",
       "      <td>25.64920</td>\n",
       "      <td>20.499660</td>\n",
       "    </tr>\n",
       "    <tr>\n",
       "      <th>1</th>\n",
       "      <td>21.69630</td>\n",
       "      <td>30.021755</td>\n",
       "    </tr>\n",
       "    <tr>\n",
       "      <th>2</th>\n",
       "      <td>7.22472</td>\n",
       "      <td>8.124666</td>\n",
       "    </tr>\n",
       "    <tr>\n",
       "      <th>3</th>\n",
       "      <td>30.98740</td>\n",
       "      <td>27.365152</td>\n",
       "    </tr>\n",
       "    <tr>\n",
       "      <th>4</th>\n",
       "      <td>41.47520</td>\n",
       "      <td>44.308174</td>\n",
       "    </tr>\n",
       "    <tr>\n",
       "      <th>...</th>\n",
       "      <td>...</td>\n",
       "      <td>...</td>\n",
       "    </tr>\n",
       "    <tr>\n",
       "      <th>19978</th>\n",
       "      <td>15.44750</td>\n",
       "      <td>14.886752</td>\n",
       "    </tr>\n",
       "    <tr>\n",
       "      <th>19979</th>\n",
       "      <td>54.42620</td>\n",
       "      <td>55.266792</td>\n",
       "    </tr>\n",
       "    <tr>\n",
       "      <th>19980</th>\n",
       "      <td>28.41820</td>\n",
       "      <td>25.794876</td>\n",
       "    </tr>\n",
       "    <tr>\n",
       "      <th>19981</th>\n",
       "      <td>21.96070</td>\n",
       "      <td>19.758512</td>\n",
       "    </tr>\n",
       "    <tr>\n",
       "      <th>19982</th>\n",
       "      <td>15.73630</td>\n",
       "      <td>14.770112</td>\n",
       "    </tr>\n",
       "  </tbody>\n",
       "</table>\n",
       "<p>19983 rows × 2 columns</p>\n",
       "</div>"
      ]
     },
     "execution_count": 42,
     "metadata": {},
     "output_type": "execute_result"
    }
   ],
   "execution_count": 42
  },
  {
   "metadata": {
    "ExecuteTime": {
     "end_time": "2024-12-05T05:08:24.969060Z",
     "start_time": "2024-12-05T05:08:24.729098Z"
    }
   },
   "cell_type": "code",
   "source": [
    "feature_importances = model.feature_importances_\n",
    "\n",
    "importance_df = pd.DataFrame({'Feature': names, 'Importance': feature_importances})\n",
    "\n",
    "importance_df = importance_df.sort_values(by='Importance', ascending=True)\n",
    "print(importance_df)\n",
    "\n",
    "plt.figure(figsize=(6, 4))\n",
    "plt.bar(importance_df['Feature'], importance_df['Importance'], color='red')\n",
    "plt.xlabel('Feature')\n",
    "plt.ylabel('Feature Importance Proportion')\n",
    "plt.title('Feature Importances (XGBRegressor)')\n",
    "plt.show()"
   ],
   "id": "ed33ec23d453d62b",
   "outputs": [
    {
     "name": "stdout",
     "output_type": "stream",
     "text": [
      "   Feature  Importance\n",
      "7       Q1    0.000373\n",
      "15      Q2    0.000461\n",
      "6     phi1    0.004125\n",
      "14    phi2    0.005286\n",
      "9      px2    0.007646\n",
      "1     px1     0.008274\n",
      "10     py2    0.009601\n",
      "2      py1    0.016277\n",
      "8       E2    0.080245\n",
      "0       E1    0.082711\n",
      "5     eta1    0.087123\n",
      "3      pz1    0.108621\n",
      "13    eta2    0.115875\n",
      "4      pt1    0.117156\n",
      "11     pz2    0.151111\n",
      "12     pt2    0.205115\n"
     ]
    },
    {
     "data": {
      "text/plain": [
       "<Figure size 600x400 with 1 Axes>"
      ],
      "image/png": "[encoded data removed]"
     },
     "metadata": {},
     "output_type": "display_data"
    }
   ],
   "execution_count": 48
  }
 ],
 "metadata": {
  "kernelspec": {
   "display_name": "Python 3",
   "language": "python",
   "name": "python3"
  },
  "language_info": {
   "codemirror_mode": {
    "name": "ipython",
    "version": 2
   },
   "file_extension": ".py",
   "mimetype": "text/x-python",
   "name": "python",
   "nbconvert_exporter": "python",
   "pygments_lexer": "ipython2",
   "version": "2.7.6"
  }
 },
 "nbformat": 4,
 "nbformat_minor": 5
}
